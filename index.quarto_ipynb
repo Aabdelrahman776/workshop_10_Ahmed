{
  "cells": [
    {
      "cell_type": "markdown",
      "metadata": {},
      "source": [
        "---\n",
        "title: \"CO2 Emissions Report\"\n",
        "author: \"Ahmed Abdelrahman\"\n",
        "format: html\n",
        "---\n",
        "\n",
        "\n",
        "::: {.panel-tabset}\n",
        "\n",
        "## Table\n"
      ],
      "id": "fee04335"
    },
    {
      "cell_type": "code",
      "metadata": {},
      "source": [
        "show(table_df)"
      ],
      "id": "3c488edc",
      "execution_count": null,
      "outputs": []
    },
    {
      "cell_type": "markdown",
      "metadata": {},
      "source": [
        "## Chart\n"
      ],
      "id": "702adb61"
    },
    {
      "cell_type": "code",
      "metadata": {},
      "source": [
        "fig_chart.show()"
      ],
      "id": "7e2f2e85",
      "execution_count": null,
      "outputs": []
    },
    {
      "cell_type": "markdown",
      "metadata": {},
      "source": [
        "## Map\n"
      ],
      "id": "a352a2e8"
    },
    {
      "cell_type": "code",
      "metadata": {},
      "source": [
        "fig_map.show()"
      ],
      "id": "981232c6",
      "execution_count": null,
      "outputs": []
    },
    {
      "cell_type": "markdown",
      "metadata": {},
      "source": [
        ":::"
      ],
      "id": "ac27f958"
    }
  ],
  "metadata": {
    "kernelspec": {
      "display_name": "Python 3",
      "language": "python",
      "name": "python3"
    }
  },
  "nbformat": 4,
  "nbformat_minor": 5
}